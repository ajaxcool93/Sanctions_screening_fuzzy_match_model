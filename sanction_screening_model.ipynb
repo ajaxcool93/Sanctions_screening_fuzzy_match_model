{
 "cells": [
  {
   "cell_type": "code",
   "execution_count": 55,
   "id": "f531eaa6",
   "metadata": {},
   "outputs": [],
   "source": [
    "# Step 1: loading all required libraries\n",
    "import pandas as pd\n",
    "import numpy as np\n",
    "from rapidfuzz import fuzz, process\n",
    "from typing import Tuple, List\n",
    "from sklearn.metrics import precision_score, recall_score, f1_score\n"
   ]
  },
  {
   "cell_type": "code",
   "execution_count": 56,
   "id": "977d07e4",
   "metadata": {},
   "outputs": [],
   "source": [
    "# Load your customer dataset (Kaggle or otherwise)\n",
    "customer_df = pd.read_csv(\"C:/Users/ajaxc/Downloads/Sanctioned_List_By_Countries.csv\")\n",
    "input_names = customer_df[\"name\"].dropna().unique().tolist()\n",
    "\n",
    "# Load OFAC SDN list and rename second column to 'entity_name'\n",
    "ofac_df = pd.read_csv(\"C:/Users/ajaxc/Downloads/sdn.csv\")\n",
    "cols = list(ofac_df.columns)\n",
    "cols[1] = \"entity_name\"\n",
    "ofac_df.columns = cols\n",
    "sanctions_list = ofac_df[\"entity_name\"].dropna().unique().tolist()\n"
   ]
  },
  {
   "cell_type": "code",
   "execution_count": 57,
   "id": "5731ac8f",
   "metadata": {},
   "outputs": [],
   "source": [
    "def fast_match(input_name, sanctions_list, threshold=85):\n",
    "    \"\"\"\n",
    "    Use rapidfuzz.process.extractOne for fast approximate matching.\n",
    "    Returns best match, score, and match flag.\n",
    "    \"\"\"\n",
    "    result = process.extractOne(\n",
    "        input_name,\n",
    "        sanctions_list,\n",
    "        scorer=fuzz.token_sort_ratio\n",
    "    )\n",
    "    if result:\n",
    "        match_name, score, _ = result\n",
    "        return match_name, score, True\n",
    "    else:\n",
    "        return None, 0, None\n",
    "\n",
    "def fast_screen(inputs, sanctions_list, threshold=85):\n",
    "    \"\"\"\n",
    "    Fast fuzzy screening over list of input names.\n",
    "    \"\"\"\n",
    "    results = []\n",
    "    for name in inputs:\n",
    "        best_match, score,_ = fast_match(name, sanctions_list)\n",
    "        is_hit = score >= threshold\n",
    "        results.append({\n",
    "            \"Input Name\": name,\n",
    "            \"Best Match\": best_match,\n",
    "            \"Match Score\": score,\n",
    "            \"Is Match\": is_hit\n",
    "        })\n",
    "    return pd.DataFrame(results)\n"
   ]
  },
  {
   "cell_type": "code",
   "execution_count": 58,
   "id": "b0fa5493",
   "metadata": {},
   "outputs": [
    {
     "data": {
      "text/html": [
       "<div>\n",
       "<style scoped>\n",
       "    .dataframe tbody tr th:only-of-type {\n",
       "        vertical-align: middle;\n",
       "    }\n",
       "\n",
       "    .dataframe tbody tr th {\n",
       "        vertical-align: top;\n",
       "    }\n",
       "\n",
       "    .dataframe thead th {\n",
       "        text-align: right;\n",
       "    }\n",
       "</style>\n",
       "<table border=\"1\" class=\"dataframe\">\n",
       "  <thead>\n",
       "    <tr style=\"text-align: right;\">\n",
       "      <th></th>\n",
       "      <th>Input Name</th>\n",
       "      <th>Best Match</th>\n",
       "      <th>Match Score</th>\n",
       "      <th>Is Match</th>\n",
       "    </tr>\n",
       "  </thead>\n",
       "  <tbody>\n",
       "    <tr>\n",
       "      <th>0</th>\n",
       "      <td>VALUMAR LLC</td>\n",
       "      <td>UMAC LLC</td>\n",
       "      <td>73.684211</td>\n",
       "      <td>False</td>\n",
       "    </tr>\n",
       "    <tr>\n",
       "      <th>1</th>\n",
       "      <td>Hadi Soleimanpour</td>\n",
       "      <td>DAOUD, Suleiman Cabdi</td>\n",
       "      <td>57.894737</td>\n",
       "      <td>False</td>\n",
       "    </tr>\n",
       "    <tr>\n",
       "      <th>2</th>\n",
       "      <td>Alí Fallahijan</td>\n",
       "      <td>AZZAM, Mansour Fadlallah</td>\n",
       "      <td>52.631579</td>\n",
       "      <td>False</td>\n",
       "    </tr>\n",
       "    <tr>\n",
       "      <th>3</th>\n",
       "      <td>Ahmad Reza Asghari</td>\n",
       "      <td>SHIVA'I, Ahmad Asghari</td>\n",
       "      <td>70.000000</td>\n",
       "      <td>False</td>\n",
       "    </tr>\n",
       "    <tr>\n",
       "      <th>4</th>\n",
       "      <td>hussein mohamed jomma</td>\n",
       "      <td>SALAD, Mohamed Hussein</td>\n",
       "      <td>60.465116</td>\n",
       "      <td>False</td>\n",
       "    </tr>\n",
       "  </tbody>\n",
       "</table>\n",
       "</div>"
      ],
      "text/plain": [
       "              Input Name                Best Match  Match Score  Is Match\n",
       "0            VALUMAR LLC                  UMAC LLC    73.684211     False\n",
       "1      Hadi Soleimanpour     DAOUD, Suleiman Cabdi    57.894737     False\n",
       "2         Alí Fallahijan  AZZAM, Mansour Fadlallah    52.631579     False\n",
       "3     Ahmad Reza Asghari    SHIVA'I, Ahmad Asghari    70.000000     False\n",
       "4  hussein mohamed jomma    SALAD, Mohamed Hussein    60.465116     False"
      ]
     },
     "execution_count": 58,
     "metadata": {},
     "output_type": "execute_result"
    }
   ],
   "source": [
    "# You can reduce the number of records during testing for speed\n",
    "# input_names = input_names[:500]\n",
    "\n",
    "df_screened = fast_screen(input_names, sanctions_list, threshold=85)\n",
    "df_screened.head()\n"
   ]
  },
  {
   "cell_type": "code",
   "execution_count": 59,
   "id": "8dba8edf",
   "metadata": {},
   "outputs": [],
   "source": [
    "def categorize(score):\n",
    "    if score >= 85:\n",
    "        return \"Strong Match\"\n",
    "    elif score >= 60:\n",
    "        return \"Partial Match\"\n",
    "    elif score > 0:\n",
    "        return \"Weak Match\"\n",
    "    else:\n",
    "        return \"No Match\"\n",
    "\n",
    "df_screened[\"Match Category\"] = df_screened[\"Match Score\"].apply(categorize)\n"
   ]
  },
  {
   "cell_type": "code",
   "execution_count": null,
   "id": "5bd1019c",
   "metadata": {},
   "outputs": [],
   "source": [
    "df_screened.to_csv(\"C:/Users/ajaxc/Downloads/df_screened.csv\", index=False)"
   ]
  }
 ],
 "metadata": {
  "kernelspec": {
   "display_name": "Python 3",
   "language": "python",
   "name": "python3"
  },
  "language_info": {
   "codemirror_mode": {
    "name": "ipython",
    "version": 3
   },
   "file_extension": ".py",
   "mimetype": "text/x-python",
   "name": "python",
   "nbconvert_exporter": "python",
   "pygments_lexer": "ipython3",
   "version": "3.13.5"
  }
 },
 "nbformat": 4,
 "nbformat_minor": 5
}
